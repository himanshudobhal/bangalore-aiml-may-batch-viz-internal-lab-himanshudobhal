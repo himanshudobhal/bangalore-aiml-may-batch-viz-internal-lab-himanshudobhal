{
 "cells": [
  {
   "cell_type": "code",
   "execution_count": 0,
   "metadata": {
    "colab": {
     "base_uri": "https://localhost:8080/",
     "height": 1139
    },
    "colab_type": "code",
    "id": "RfcF7Fy_q7Bn",
    "outputId": "7592fa2a-ea1c-4869-fde1-d68588a3a16f"
   },
   "outputs": [
    {
     "name": "stdout",
     "output_type": "stream",
     "text": [
      "--2018-12-01 23:13:04--  https://launchpad.net/~alessandro-strada/+archive/ubuntu/google-drive-ocamlfuse-beta/+build/15331130/+files/google-drive-ocamlfuse_0.7.0-0ubuntu1_amd64.deb\n",
      "Resolving launchpad.net (launchpad.net)... 91.189.89.223, 91.189.89.222\n",
      "Connecting to launchpad.net (launchpad.net)|91.189.89.223|:443... connected.\n",
      "HTTP request sent, awaiting response... 303 See Other\n",
      "Location: https://launchpadlibrarian.net/386846978/google-drive-ocamlfuse_0.7.0-0ubuntu1_amd64.deb [following]\n",
      "--2018-12-01 23:13:04--  https://launchpadlibrarian.net/386846978/google-drive-ocamlfuse_0.7.0-0ubuntu1_amd64.deb\n",
      "Resolving launchpadlibrarian.net (launchpadlibrarian.net)... 91.189.89.229, 91.189.89.228\n",
      "Connecting to launchpadlibrarian.net (launchpadlibrarian.net)|91.189.89.229|:443... connected.\n",
      "HTTP request sent, awaiting response... 200 OK\n",
      "Length: 1232624 (1.2M) [application/x-debian-package]\n",
      "Saving to: ‘google-drive-ocamlfuse_0.7.0-0ubuntu1_amd64.deb’\n",
      "\n",
      "\r",
      "          google-dr   0%[                    ]       0  --.-KB/s               \r",
      "google-drive-ocamlf 100%[===================>]   1.17M  --.-KB/s    in 0.08s   \n",
      "\n",
      "2018-12-01 23:13:04 (14.2 MB/s) - ‘google-drive-ocamlfuse_0.7.0-0ubuntu1_amd64.deb’ saved [1232624/1232624]\n",
      "\n",
      "Selecting previously unselected package google-drive-ocamlfuse.\n",
      "(Reading database ... 26397 files and directories currently installed.)\n",
      "Preparing to unpack google-drive-ocamlfuse_0.7.0-0ubuntu1_amd64.deb ...\n",
      "Unpacking google-drive-ocamlfuse (0.7.0-0ubuntu1) ...\n",
      "\u001b[1mdpkg:\u001b[0m dependency problems prevent configuration of google-drive-ocamlfuse:\n",
      " google-drive-ocamlfuse depends on libfuse2 (>= 2.8); however:\n",
      "  Package libfuse2 is not installed.\n",
      "\n",
      "\u001b[1mdpkg:\u001b[0m error processing package google-drive-ocamlfuse (--install):\n",
      " dependency problems - leaving unconfigured\n",
      "Processing triggers for man-db (2.8.3-2ubuntu0.1) ...\n",
      "Errors were encountered while processing:\n",
      " google-drive-ocamlfuse\n",
      "Reading package lists... Done\n",
      "Building dependency tree       \n",
      "Reading state information... Done\n",
      "Correcting dependencies... Done\n",
      "The following additional packages will be installed:\n",
      "  libfuse2\n",
      "Suggested packages:\n",
      "  fuse\n",
      "The following NEW packages will be installed:\n",
      "  libfuse2\n",
      "0 upgraded, 1 newly installed, 0 to remove and 7 not upgraded.\n",
      "1 not fully installed or removed.\n",
      "Need to get 80.9 kB of archives.\n",
      "After this operation, 313 kB of additional disk space will be used.\n",
      "Get:1 http://archive.ubuntu.com/ubuntu bionic/main amd64 libfuse2 amd64 2.9.7-1ubuntu1 [80.9 kB]\n",
      "Fetched 80.9 kB in 0s (1,261 kB/s)\n",
      "Selecting previously unselected package libfuse2:amd64.\n",
      "(Reading database ... 26402 files and directories currently installed.)\n",
      "Preparing to unpack .../libfuse2_2.9.7-1ubuntu1_amd64.deb ...\n",
      "Unpacking libfuse2:amd64 (2.9.7-1ubuntu1) ...\n",
      "Setting up libfuse2:amd64 (2.9.7-1ubuntu1) ...\n",
      "Processing triggers for libc-bin (2.27-3ubuntu1) ...\n",
      "Setting up google-drive-ocamlfuse (0.7.0-0ubuntu1) ...\n",
      "Selecting previously unselected package fuse.\n",
      "(Reading database ... 26414 files and directories currently installed.)\n",
      "Preparing to unpack .../fuse_2.9.7-1ubuntu1_amd64.deb ...\n",
      "Unpacking fuse (2.9.7-1ubuntu1) ...\n",
      "Processing triggers for man-db (2.8.3-2ubuntu0.1) ...\n",
      "Setting up fuse (2.9.7-1ubuntu1) ...\n",
      "Please, open the following URL in a web browser: https://accounts.google.com/o/oauth2/auth?client_id=32555940559.apps.googleusercontent.com&redirect_uri=urn%3Aietf%3Awg%3Aoauth%3A2.0%3Aoob&scope=https%3A%2F%2Fwww.googleapis.com%2Fauth%2Fdrive&response_type=code&access_type=offline&approval_prompt=force\n",
      "··········\n",
      "Please, open the following URL in a web browser: https://accounts.google.com/o/oauth2/auth?client_id=32555940559.apps.googleusercontent.com&redirect_uri=urn%3Aietf%3Awg%3Aoauth%3A2.0%3Aoob&scope=https%3A%2F%2Fwww.googleapis.com%2Fauth%2Fdrive&response_type=code&access_type=offline&approval_prompt=force\n",
      "Please enter the verification code: Access token retrieved correctly.\n"
     ]
    }
   ],
   "source": [
    "\n",
    "#!add-apt-repository -y ppa:alessandro-strada/ppa 2>&1 > /dev/null\n",
    "#!apt-get update -qq 2>&1 > /dev/null\n",
    "#!apt-get -y install -qq google-drive-ocamlfuse fuse\n",
    "!wget https://launchpad.net/~alessandro-strada/+archive/ubuntu/google-drive-ocamlfuse-beta/+build/15331130/+files/google-drive-ocamlfuse_0.7.0-0ubuntu1_amd64.deb\n",
    "!dpkg -i google-drive-ocamlfuse_0.7.0-0ubuntu1_amd64.deb\n",
    "!apt-get install -f\n",
    "!apt-get -y install -qq fuse\n",
    "from google.colab import auth\n",
    "auth.authenticate_user()\n",
    "from oauth2client.client import GoogleCredentials\n",
    "creds = GoogleCredentials.get_application_default()\n",
    "import getpass\n",
    "!google-drive-ocamlfuse -headless -id={creds.client_id} -secret={creds.client_secret} < /dev/null 2>&1 | grep URL\n",
    "vcode = getpass.getpass()\n",
    "!echo {vcode} | google-drive-ocamlfuse -headless -id={creds.client_id} -secret={creds.client_secret}"
   ]
  },
  {
   "cell_type": "code",
   "execution_count": 0,
   "metadata": {
    "colab": {
     "base_uri": "https://localhost:8080/",
     "height": 232
    },
    "colab_type": "code",
    "id": "1qDJVPRvq-rl",
    "outputId": "fe1a17e5-ccbf-4940-b66e-f3410c957dcb"
   },
   "outputs": [
    {
     "name": "stdout",
     "output_type": "stream",
     "text": [
      "Collecting tables\n",
      "\u001b[?25l  Downloading https://files.pythonhosted.org/packages/d7/1b/21f4c7f296b718575c17ef25e61c05742a283c45077b4c8d5a190b3e0b59/tables-3.4.4-cp36-cp36m-manylinux1_x86_64.whl (3.8MB)\n",
      "\u001b[K    100% |████████████████████████████████| 3.8MB 10.0MB/s \n",
      "\u001b[?25hCollecting numexpr>=2.5.2 (from tables)\n",
      "\u001b[?25l  Downloading https://files.pythonhosted.org/packages/db/ea/efd9e16283637eb5b6c0042b6cc3521f1b9a5b47767ac463c88bbd37670c/numexpr-2.6.8-cp36-cp36m-manylinux1_x86_64.whl (162kB)\n",
      "\u001b[K    100% |████████████████████████████████| 163kB 31.3MB/s \n",
      "\u001b[?25hRequirement already satisfied: numpy>=1.8.0 in /usr/local/lib/python3.6/dist-packages (from tables) (1.14.6)\n",
      "Requirement already satisfied: six>=1.9.0 in /usr/local/lib/python3.6/dist-packages (from tables) (1.11.0)\n",
      "Installing collected packages: numexpr, tables\n",
      "Successfully installed numexpr-2.6.8 tables-3.4.4\n",
      "E: Package 'python-software-properties' has no installation candidate\n"
     ]
    }
   ],
   "source": [
    "# Create a directory and mount Google Drive onto the colab workspace using that directory.\n",
    "\n",
    "!mkdir -p drive\n",
    "\n",
    "!google-drive-ocamlfuse drive\n",
    "!pip install tables\n",
    "!apt-get install -y -qq software-properties-common python-software-properties module-init-tools"
   ]
  },
  {
   "cell_type": "markdown",
   "metadata": {
    "colab_type": "text",
    "id": "oVEReyyDtZxl"
   },
   "source": [
    "# Transfer Learning experiments for CXR classification \n"
   ]
  },
  {
   "cell_type": "code",
   "execution_count": 0,
   "metadata": {
    "colab": {},
    "colab_type": "code",
    "id": "K0cQhGAxl_qs"
   },
   "outputs": [],
   "source": [
    "from __future__ import absolute_import, division, print_function\n",
    "import numpy as np\n",
    "import keras\n",
    "from keras.datasets import cifar10, mnist\n",
    "from keras.models import Sequential, Model\n",
    "from keras.layers import Dense, Activation, Dropout, Flatten, Reshape, Input\n",
    "from keras.optimizers import RMSprop\n",
    "from keras.layers import Convolution2D, MaxPooling2D, GlobalAveragePooling2D, BatchNormalization\n",
    "from keras.utils import np_utils\n",
    "import pickle\n",
    "from matplotlib import pyplot as plt\n",
    "import seaborn as sns\n",
    "plt.rcParams['figure.figsize'] = (15, 8)\n",
    "import keras.backend as K\n",
    "%matplotlib inline"
   ]
  },
  {
   "cell_type": "markdown",
   "metadata": {
    "colab_type": "text",
    "id": "wEFWjurDvnBQ"
   },
   "source": [
    "## Chest Xray Classification"
   ]
  },
  {
   "cell_type": "code",
   "execution_count": 0,
   "metadata": {
    "colab": {
     "base_uri": "https://localhost:8080/",
     "height": 266
    },
    "colab_type": "code",
    "id": "9tL3pN0OrKSE",
    "outputId": "0339c44d-f24c-4e4a-f016-a95e1e253c9c"
   },
   "outputs": [
    {
     "name": "stdout",
     "output_type": "stream",
     "text": [
      "7609643866_a8a5a49690_z.jpg\n",
      "cameraman.png\n",
      "cars1.jpg\n",
      "cars.jpg\n",
      "chestCT.jpg\n",
      "lena.jpg\n",
      "man-walking-on-the-beach-towards-shore_800.jpg\n",
      "NLM_5cls_data.h5\n",
      "NLMsamp_data_TB.pkl\n",
      "pedestrian-zone-456909_960_720.jpg\n",
      "pexels-photo-1034679_dusk.jpeg\n",
      "PulmonaryTBCXR.png\n",
      "T1-weighted-MRI.png\n",
      "TBdata_CHN.h5\n"
     ]
    }
   ],
   "source": [
    "!ls ./drive/data/DL_CV_data/\n"
   ]
  },
  {
   "cell_type": "code",
   "execution_count": 0,
   "metadata": {
    "colab": {},
    "colab_type": "code",
    "id": "20dSbyEv5xfi"
   },
   "outputs": [],
   "source": [
    "import h5py\n",
    "h5f = h5py.File('./drive/data/DL_CV_data/NLM_5cls_data.h5','r')\n",
    "#h5f = h5py.File('./drive/data/DL_CV_data/TBdata_CHN.h5','r')\n",
    "data =h5f['data']\n",
    "truth=h5f['truth']\n",
    "data_org = (np.array(data))\n",
    "truth_org  = np.array(truth)\n"
   ]
  },
  {
   "cell_type": "code",
   "execution_count": 0,
   "metadata": {
    "colab": {
     "base_uri": "https://localhost:8080/",
     "height": 70
    },
    "colab_type": "code",
    "id": "ftUOKwNWQqKB",
    "outputId": "4d1fb025-e2e6-44a2-9ea3-f9a48f779536"
   },
   "outputs": [
    {
     "name": "stdout",
     "output_type": "stream",
     "text": [
      "(1845, 1, 256, 256)\n",
      "(1845, 3)\n",
      "[1380.  215.  250.]\n"
     ]
    }
   ],
   "source": [
    "ind = np.squeeze(np.array(np.where((truth_org[:,0:3].sum(1)>0))))# & (truth_org.sum(1)==truth_cp.sum(1)))))\n",
    "data=data_org[ind]\n",
    "truth = truth_org[ind,0:3]\n",
    "print(data.shape)\n",
    "print(truth.shape)\n",
    "print(truth.sum(0))"
   ]
  },
  {
   "cell_type": "code",
   "execution_count": 0,
   "metadata": {
    "colab": {},
    "colab_type": "code",
    "id": "tHZdDdPtHrC2"
   },
   "outputs": [],
   "source": [
    "truth_n = truth[:,0:1]\n",
    "truth_a = 1 - truth[:,0:1]\n",
    "truth_na = np.concatenate([truth_n,truth_a],axis=1)"
   ]
  },
  {
   "cell_type": "code",
   "execution_count": 0,
   "metadata": {
    "colab": {},
    "colab_type": "code",
    "id": "Qp-JFCLW6bHT"
   },
   "outputs": [],
   "source": [
    "import cv2\n",
    "rez=(92,92)\n",
    "def preprocess(data):\n",
    "  from skimage import exposure\n",
    "  data_proc = np.zeros((data.shape[0],data.shape[1],rez[0],rez[1]))\n",
    "  #data_proc=[]\n",
    "  for i in range(0, data.shape[0]):\n",
    "    img = cv2.resize(data[i,0], rez)# , preserve_range=True)\n",
    "    img=exposure.equalize_hist(img)\n",
    "    #img=data[i,0]\n",
    "    img=(img - img.mean())/(1.0*img.std())\n",
    "    img=(img-img.min())/(1.0*(1e-2+img.max()-img.min()))\t\n",
    "    data_proc[i,0,:,:]=img\n",
    "  return np.array(data_proc)"
   ]
  },
  {
   "cell_type": "code",
   "execution_count": 0,
   "metadata": {
    "colab": {},
    "colab_type": "code",
    "id": "YbkwnQxp9Rdk"
   },
   "outputs": [],
   "source": [
    "from sklearn.model_selection import train_test_split\n",
    "data_proc = preprocess(data)\n"
   ]
  },
  {
   "cell_type": "code",
   "execution_count": 0,
   "metadata": {
    "colab": {},
    "colab_type": "code",
    "id": "ZzsLgRWH18G0"
   },
   "outputs": [],
   "source": [
    "data_proc_rgb = []\n",
    "\n",
    "for s in range(0,data_proc.shape[0]):\n",
    "    rgb=np.zeros((data_proc.shape[2],data_proc.shape[3],3))\n",
    "    rgb[:,:,0]=data_proc[s,0,:,:]\n",
    "    rgb[:,:,1]=data_proc[s,0,:,:]\n",
    "    rgb[:,:,2]=data_proc[s,0,:,:]\n",
    "    data_proc_rgb.append(rgb)\n",
    "    \n",
    "data_proc_rgb=np.array(data_proc_rgb)\n",
    "\n",
    "\n"
   ]
  },
  {
   "cell_type": "code",
   "execution_count": 0,
   "metadata": {
    "colab": {
     "base_uri": "https://localhost:8080/",
     "height": 35
    },
    "colab_type": "code",
    "id": "0d5A_BpI29Mh",
    "outputId": "89acb033-67ee-45f7-85c8-1daaaae4bb27"
   },
   "outputs": [
    {
     "data": {
      "text/plain": [
       "(1845, 92, 92, 3)"
      ]
     },
     "execution_count": 9,
     "metadata": {
      "tags": []
     },
     "output_type": "execute_result"
    }
   ],
   "source": [
    "data_proc_rgb.shape"
   ]
  },
  {
   "cell_type": "code",
   "execution_count": 0,
   "metadata": {
    "colab": {
     "base_uri": "https://localhost:8080/",
     "height": 303
    },
    "colab_type": "code",
    "id": "47WtW0ZS3BTo",
    "outputId": "d96ccd5d-1aef-4317-c08c-50f08ec482b8"
   },
   "outputs": [
    {
     "data": {
      "text/plain": [
       "(<matplotlib.image.AxesImage at 0x7fe109ac4e48>,\n",
       " <function matplotlib.pyplot.show>)"
      ]
     },
     "execution_count": 10,
     "metadata": {
      "tags": []
     },
     "output_type": "execute_result"
    },
    {
     "data": {
      "image/png": "[encoded data removed]",
      "text/plain": [
       "<matplotlib.figure.Figure at 0x7fe109d6ca90>"
      ]
     },
     "metadata": {
      "tags": []
     },
     "output_type": "display_data"
    }
   ],
   "source": [
    "plt.imshow(data_proc_rgb[100,:,:,0],cmap='gray'), plt.show"
   ]
  },
  {
   "cell_type": "code",
   "execution_count": 0,
   "metadata": {
    "colab": {},
    "colab_type": "code",
    "id": "oombHYBb26dd"
   },
   "outputs": [],
   "source": [
    "x_train,x_test,y_train,y_test = train_test_split(data_proc_rgb,\n",
    "                                                             truth_na, \n",
    "                                                             test_size=0.2, \n",
    "                                                             random_state=13)"
   ]
  },
  {
   "cell_type": "code",
   "execution_count": 0,
   "metadata": {
    "colab": {
     "base_uri": "https://localhost:8080/",
     "height": 35
    },
    "colab_type": "code",
    "id": "dnMzzPLi-nxu",
    "outputId": "09e6d62c-1455-4706-ac0b-a5616cb20a28"
   },
   "outputs": [
    {
     "data": {
      "text/plain": [
       "(1476, 92, 92, 3)"
      ]
     },
     "execution_count": 12,
     "metadata": {
      "tags": []
     },
     "output_type": "execute_result"
    }
   ],
   "source": [
    "x_train.shape\n"
   ]
  },
  {
   "cell_type": "code",
   "execution_count": 0,
   "metadata": {
    "colab": {
     "base_uri": "https://localhost:8080/",
     "height": 35
    },
    "colab_type": "code",
    "id": "HR3Q6FPsCAJz",
    "outputId": "51c2eead-394e-476e-b622-3e44bb160ec3"
   },
   "outputs": [
    {
     "data": {
      "text/plain": [
       "0.9971067029568965"
      ]
     },
     "execution_count": 13,
     "metadata": {
      "tags": []
     },
     "output_type": "execute_result"
    }
   ],
   "source": [
    "x_train[10].max()\n"
   ]
  },
  {
   "cell_type": "markdown",
   "metadata": {
    "colab_type": "text",
    "id": "CaTgo6tmE_fb"
   },
   "source": [
    "#Shallow Model from Scratch"
   ]
  },
  {
   "cell_type": "code",
   "execution_count": 0,
   "metadata": {
    "colab": {
     "base_uri": "https://localhost:8080/",
     "height": 52
    },
    "colab_type": "code",
    "id": "MbKtaI6vSgy4",
    "outputId": "2ddc2ec4-9b0d-46fd-a77e-81ad91fb9fa2"
   },
   "outputs": [
    {
     "name": "stdout",
     "output_type": "stream",
     "text": [
      "Loading pretrained model...\n",
      "Model loaded.\n"
     ]
    }
   ],
   "source": [
    "TRAIN= False\n",
    "BATCH_SIZE=32\n",
    "EPOCHS = 20\n",
    "from keras import backend as K\n",
    "K.set_image_data_format(\"channels_last\")\n",
    "\n",
    "\n",
    "from keras.preprocessing.image import ImageDataGenerator\n",
    "\n",
    "# This will do preprocessing and realtime data augmentation:\n",
    "datagen = ImageDataGenerator(\n",
    "    featurewise_center=False,  # set input mean to 0 over the dataset\n",
    "    samplewise_center=False,  # set each sample mean to 0\n",
    "    featurewise_std_normalization=False,  # divide inputs by std of the dataset\n",
    "    samplewise_std_normalization=False,  # divide each input by its std\n",
    "    zca_whitening=False,  # apply ZCA whitening\n",
    "    rotation_range=1,  # randomly rotate images in the range (degrees, 0 to 180)\n",
    "    width_shift_range=0.1,  # randomly shift images horizontally (fraction of total width)\n",
    "    height_shift_range=0.1,  # randomly shift images vertically (fraction of total height)\n",
    "    horizontal_flip=False,  # randomly flip images\n",
    "    vertical_flip=False)  # randomly flip images\n",
    "\n",
    "# Prepare the generator\n",
    "datagen.fit(x_train)\n",
    "\n",
    "if TRAIN:\n",
    "    \n",
    "    model = Sequential()\n",
    "\n",
    "    model.add(Convolution2D(16, 3, 3, border_mode='same', input_shape=(x_train.shape[1],x_train.shape[2],x_train.shape[3])))\n",
    "    model.add(Activation('relu'))\n",
    "\n",
    "    model.add(Convolution2D(16, 3, 3))\n",
    "    model.add(Activation('relu'))\n",
    "\n",
    "    model.add(MaxPooling2D(pool_size=(2, 2)))\n",
    "    \n",
    "    model.add(Convolution2D(32, 3, 3, border_mode='same'))\n",
    "    model.add(Activation('relu'))\n",
    "\n",
    "    model.add(Convolution2D(32, 3, 3))\n",
    "    model.add(Activation('relu'))\n",
    "\n",
    "    model.add(MaxPooling2D(pool_size=(2, 2)))\n",
    "    \n",
    "    model.add(Flatten())\n",
    "    model.add(Dense(512))\n",
    "    model.add(Activation('relu'))\n",
    "\n",
    "    model.add(Dropout(0.1))\n",
    "\n",
    "    model.add(Dense(2))\n",
    "    model.add(Activation('sigmoid'))\n",
    "\n",
    "    model.compile(loss='categorical_crossentropy', optimizer='adam', metrics=['accuracy'])\n",
    "    \n",
    "    # Store Training Results\n",
    "        \n",
    "    model.fit_generator(datagen.flow(x_train, y_train,\n",
    "                        batch_size=BATCH_SIZE),\n",
    "                        samples_per_epoch=x_train.shape[0],\n",
    "                        nb_epoch=EPOCHS,\n",
    "                        validation_data=(x_test, y_test), shuffle=True)\n",
    "    \n",
    "    # Save Model and Stats\n",
    "    model.save('./drive/models/xray_cnn.h5')\n",
    "\n",
    "else:\n",
    "    print('Loading pretrained model...')\n",
    "    model = keras.models.load_model('./drive/models/xray_cnn.h5')\n",
    "    print('Model loaded.')"
   ]
  },
  {
   "cell_type": "code",
   "execution_count": 0,
   "metadata": {
    "colab": {
     "base_uri": "https://localhost:8080/",
     "height": 35
    },
    "colab_type": "code",
    "id": "mMFc5yfcb53B",
    "outputId": "302c4264-3916-45b0-c028-2dba2222b637"
   },
   "outputs": [
    {
     "data": {
      "text/plain": [
       "(369, 2)"
      ]
     },
     "execution_count": 49,
     "metadata": {
      "tags": []
     },
     "output_type": "execute_result"
    }
   ],
   "source": [
    "pred.shape"
   ]
  },
  {
   "cell_type": "code",
   "execution_count": 0,
   "metadata": {
    "colab": {
     "base_uri": "https://localhost:8080/",
     "height": 283
    },
    "colab_type": "code",
    "id": "fhOCzoNcbeur",
    "outputId": "519555bf-7a8f-454d-d517-24e142315e54"
   },
   "outputs": [
    {
     "name": "stdout",
     "output_type": "stream",
     "text": [
      "0.8738496071829405\n"
     ]
    },
    {
     "data": {
      "image/png": "[encoded data removed]",
      "text/plain": [
       "<matplotlib.figure.Figure at 0x7fe0e4c6ba90>"
      ]
     },
     "metadata": {
      "tags": []
     },
     "output_type": "display_data"
    }
   ],
   "source": [
    "pred=model.predict(x_test)\n",
    "import sklearn\n",
    "fpr,tpr,thresh=sklearn.metrics.roc_curve(y_test[:,0], pred[:,0])\n",
    "\n",
    "plt.plot(fpr,tpr)\n",
    "print(sklearn.metrics.roc_auc_score(y_test[:,0],pred[:,0]))"
   ]
  },
  {
   "cell_type": "code",
   "execution_count": 0,
   "metadata": {
    "colab": {},
    "colab_type": "code",
    "id": "9aglXNZkHb_p"
   },
   "outputs": [],
   "source": []
  },
  {
   "cell_type": "code",
   "execution_count": 0,
   "metadata": {
    "colab": {},
    "colab_type": "code",
    "id": "euGPdpV4KGpo"
   },
   "outputs": [],
   "source": []
  }
 ],
 "metadata": {
  "accelerator": "GPU",
  "colab": {
   "collapsed_sections": [],
   "name": "DL_CV_GLL_Dec1_2_TL_CXR_NA_shallow.ipynb",
   "provenance": [],
   "version": "0.3.2"
  },
  "kernelspec": {
   "display_name": "Python 2",
   "language": "python",
   "name": "python2"
  },
  "language_info": {
   "codemirror_mode": {
    "name": "ipython",
    "version": 2
   },
   "file_extension": ".py",
   "mimetype": "text/x-python",
   "name": "python",
   "nbconvert_exporter": "python",
   "pygments_lexer": "ipython2",
   "version": "2.7.15"
  }
 },
 "nbformat": 4,
 "nbformat_minor": 1
}
