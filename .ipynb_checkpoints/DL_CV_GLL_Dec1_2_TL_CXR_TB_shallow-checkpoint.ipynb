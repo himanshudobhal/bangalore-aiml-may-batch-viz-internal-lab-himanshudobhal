{
 "cells": [
  {
   "cell_type": "code",
   "execution_count": 0,
   "metadata": {
    "colab": {
     "base_uri": "https://localhost:8080/",
     "height": 1139
    },
    "colab_type": "code",
    "id": "RfcF7Fy_q7Bn",
    "outputId": "7592fa2a-ea1c-4869-fde1-d68588a3a16f"
   },
   "outputs": [
    {
     "name": "stdout",
     "output_type": "stream",
     "text": [
      "--2018-12-01 23:13:04--  https://launchpad.net/~alessandro-strada/+archive/ubuntu/google-drive-ocamlfuse-beta/+build/15331130/+files/google-drive-ocamlfuse_0.7.0-0ubuntu1_amd64.deb\n",
      "Resolving launchpad.net (launchpad.net)... 91.189.89.223, 91.189.89.222\n",
      "Connecting to launchpad.net (launchpad.net)|91.189.89.223|:443... connected.\n",
      "HTTP request sent, awaiting response... 303 See Other\n",
      "Location: https://launchpadlibrarian.net/386846978/google-drive-ocamlfuse_0.7.0-0ubuntu1_amd64.deb [following]\n",
      "--2018-12-01 23:13:04--  https://launchpadlibrarian.net/386846978/google-drive-ocamlfuse_0.7.0-0ubuntu1_amd64.deb\n",
      "Resolving launchpadlibrarian.net (launchpadlibrarian.net)... 91.189.89.229, 91.189.89.228\n",
      "Connecting to launchpadlibrarian.net (launchpadlibrarian.net)|91.189.89.229|:443... connected.\n",
      "HTTP request sent, awaiting response... 200 OK\n",
      "Length: 1232624 (1.2M) [application/x-debian-package]\n",
      "Saving to: ‘google-drive-ocamlfuse_0.7.0-0ubuntu1_amd64.deb’\n",
      "\n",
      "\r",
      "          google-dr   0%[                    ]       0  --.-KB/s               \r",
      "google-drive-ocamlf 100%[===================>]   1.17M  --.-KB/s    in 0.08s   \n",
      "\n",
      "2018-12-01 23:13:04 (14.2 MB/s) - ‘google-drive-ocamlfuse_0.7.0-0ubuntu1_amd64.deb’ saved [1232624/1232624]\n",
      "\n",
      "Selecting previously unselected package google-drive-ocamlfuse.\n",
      "(Reading database ... 26397 files and directories currently installed.)\n",
      "Preparing to unpack google-drive-ocamlfuse_0.7.0-0ubuntu1_amd64.deb ...\n",
      "Unpacking google-drive-ocamlfuse (0.7.0-0ubuntu1) ...\n",
      "\u001b[1mdpkg:\u001b[0m dependency problems prevent configuration of google-drive-ocamlfuse:\n",
      " google-drive-ocamlfuse depends on libfuse2 (>= 2.8); however:\n",
      "  Package libfuse2 is not installed.\n",
      "\n",
      "\u001b[1mdpkg:\u001b[0m error processing package google-drive-ocamlfuse (--install):\n",
      " dependency problems - leaving unconfigured\n",
      "Processing triggers for man-db (2.8.3-2ubuntu0.1) ...\n",
      "Errors were encountered while processing:\n",
      " google-drive-ocamlfuse\n",
      "Reading package lists... Done\n",
      "Building dependency tree       \n",
      "Reading state information... Done\n",
      "Correcting dependencies... Done\n",
      "The following additional packages will be installed:\n",
      "  libfuse2\n",
      "Suggested packages:\n",
      "  fuse\n",
      "The following NEW packages will be installed:\n",
      "  libfuse2\n",
      "0 upgraded, 1 newly installed, 0 to remove and 7 not upgraded.\n",
      "1 not fully installed or removed.\n",
      "Need to get 80.9 kB of archives.\n",
      "After this operation, 313 kB of additional disk space will be used.\n",
      "Get:1 http://archive.ubuntu.com/ubuntu bionic/main amd64 libfuse2 amd64 2.9.7-1ubuntu1 [80.9 kB]\n",
      "Fetched 80.9 kB in 0s (1,261 kB/s)\n",
      "Selecting previously unselected package libfuse2:amd64.\n",
      "(Reading database ... 26402 files and directories currently installed.)\n",
      "Preparing to unpack .../libfuse2_2.9.7-1ubuntu1_amd64.deb ...\n",
      "Unpacking libfuse2:amd64 (2.9.7-1ubuntu1) ...\n",
      "Setting up libfuse2:amd64 (2.9.7-1ubuntu1) ...\n",
      "Processing triggers for libc-bin (2.27-3ubuntu1) ...\n",
      "Setting up google-drive-ocamlfuse (0.7.0-0ubuntu1) ...\n",
      "Selecting previously unselected package fuse.\n",
      "(Reading database ... 26414 files and directories currently installed.)\n",
      "Preparing to unpack .../fuse_2.9.7-1ubuntu1_amd64.deb ...\n",
      "Unpacking fuse (2.9.7-1ubuntu1) ...\n",
      "Processing triggers for man-db (2.8.3-2ubuntu0.1) ...\n",
      "Setting up fuse (2.9.7-1ubuntu1) ...\n",
      "Please, open the following URL in a web browser: https://accounts.google.com/o/oauth2/auth?client_id=32555940559.apps.googleusercontent.com&redirect_uri=urn%3Aietf%3Awg%3Aoauth%3A2.0%3Aoob&scope=https%3A%2F%2Fwww.googleapis.com%2Fauth%2Fdrive&response_type=code&access_type=offline&approval_prompt=force\n",
      "··········\n",
      "Please, open the following URL in a web browser: https://accounts.google.com/o/oauth2/auth?client_id=32555940559.apps.googleusercontent.com&redirect_uri=urn%3Aietf%3Awg%3Aoauth%3A2.0%3Aoob&scope=https%3A%2F%2Fwww.googleapis.com%2Fauth%2Fdrive&response_type=code&access_type=offline&approval_prompt=force\n",
      "Please enter the verification code: Access token retrieved correctly.\n"
     ]
    }
   ],
   "source": [
    "\n",
    "#!add-apt-repository -y ppa:alessandro-strada/ppa 2>&1 > /dev/null\n",
    "#!apt-get update -qq 2>&1 > /dev/null\n",
    "#!apt-get -y install -qq google-drive-ocamlfuse fuse\n",
    "!wget https://launchpad.net/~alessandro-strada/+archive/ubuntu/google-drive-ocamlfuse-beta/+build/15331130/+files/google-drive-ocamlfuse_0.7.0-0ubuntu1_amd64.deb\n",
    "!dpkg -i google-drive-ocamlfuse_0.7.0-0ubuntu1_amd64.deb\n",
    "!apt-get install -f\n",
    "!apt-get -y install -qq fuse\n",
    "from google.colab import auth\n",
    "auth.authenticate_user()\n",
    "from oauth2client.client import GoogleCredentials\n",
    "creds = GoogleCredentials.get_application_default()\n",
    "import getpass\n",
    "!google-drive-ocamlfuse -headless -id={creds.client_id} -secret={creds.client_secret} < /dev/null 2>&1 | grep URL\n",
    "vcode = getpass.getpass()\n",
    "!echo {vcode} | google-drive-ocamlfuse -headless -id={creds.client_id} -secret={creds.client_secret}"
   ]
  },
  {
   "cell_type": "code",
   "execution_count": 0,
   "metadata": {
    "colab": {
     "base_uri": "https://localhost:8080/",
     "height": 232
    },
    "colab_type": "code",
    "id": "1qDJVPRvq-rl",
    "outputId": "fe1a17e5-ccbf-4940-b66e-f3410c957dcb"
   },
   "outputs": [
    {
     "name": "stdout",
     "output_type": "stream",
     "text": [
      "Collecting tables\n",
      "\u001b[?25l  Downloading https://files.pythonhosted.org/packages/d7/1b/21f4c7f296b718575c17ef25e61c05742a283c45077b4c8d5a190b3e0b59/tables-3.4.4-cp36-cp36m-manylinux1_x86_64.whl (3.8MB)\n",
      "\u001b[K    100% |████████████████████████████████| 3.8MB 10.0MB/s \n",
      "\u001b[?25hCollecting numexpr>=2.5.2 (from tables)\n",
      "\u001b[?25l  Downloading https://files.pythonhosted.org/packages/db/ea/efd9e16283637eb5b6c0042b6cc3521f1b9a5b47767ac463c88bbd37670c/numexpr-2.6.8-cp36-cp36m-manylinux1_x86_64.whl (162kB)\n",
      "\u001b[K    100% |████████████████████████████████| 163kB 31.3MB/s \n",
      "\u001b[?25hRequirement already satisfied: numpy>=1.8.0 in /usr/local/lib/python3.6/dist-packages (from tables) (1.14.6)\n",
      "Requirement already satisfied: six>=1.9.0 in /usr/local/lib/python3.6/dist-packages (from tables) (1.11.0)\n",
      "Installing collected packages: numexpr, tables\n",
      "Successfully installed numexpr-2.6.8 tables-3.4.4\n",
      "E: Package 'python-software-properties' has no installation candidate\n"
     ]
    }
   ],
   "source": [
    "# Create a directory and mount Google Drive onto the colab workspace using that directory.\n",
    "\n",
    "!mkdir -p drive\n",
    "\n",
    "!google-drive-ocamlfuse drive\n",
    "!pip install tables\n",
    "!apt-get install -y -qq software-properties-common python-software-properties module-init-tools"
   ]
  },
  {
   "cell_type": "markdown",
   "metadata": {
    "colab_type": "text",
    "id": "oVEReyyDtZxl"
   },
   "source": [
    "# Transfer Learning experiments for CXR classification \n"
   ]
  },
  {
   "cell_type": "code",
   "execution_count": 0,
   "metadata": {
    "colab": {
     "base_uri": "https://localhost:8080/",
     "height": 35
    },
    "colab_type": "code",
    "id": "K0cQhGAxl_qs",
    "outputId": "6389447c-c84e-49e1-fd76-97fb2c428639"
   },
   "outputs": [
    {
     "name": "stderr",
     "output_type": "stream",
     "text": [
      "Using TensorFlow backend.\n"
     ]
    }
   ],
   "source": [
    "from __future__ import absolute_import, division, print_function\n",
    "import numpy as np\n",
    "import keras\n",
    "from keras.datasets import cifar10, mnist\n",
    "from keras.models import Sequential, Model\n",
    "from keras.layers import Dense, Activation, Dropout, Flatten, Reshape, Input\n",
    "from keras.optimizers import RMSprop\n",
    "from keras.layers import Convolution2D, MaxPooling2D, GlobalAveragePooling2D, BatchNormalization\n",
    "from keras.utils import np_utils\n",
    "import pickle\n",
    "from matplotlib import pyplot as plt\n",
    "import seaborn as sns\n",
    "plt.rcParams['figure.figsize'] = (15, 8)\n",
    "import keras.backend as K\n",
    "%matplotlib inline"
   ]
  },
  {
   "cell_type": "markdown",
   "metadata": {
    "colab_type": "text",
    "id": "wEFWjurDvnBQ"
   },
   "source": [
    "## Chest Xray Classification"
   ]
  },
  {
   "cell_type": "code",
   "execution_count": 0,
   "metadata": {
    "colab": {
     "base_uri": "https://localhost:8080/",
     "height": 266
    },
    "colab_type": "code",
    "id": "9tL3pN0OrKSE",
    "outputId": "9c0aa16d-0dc9-4fc4-b90c-43323cdc204e"
   },
   "outputs": [
    {
     "name": "stdout",
     "output_type": "stream",
     "text": [
      "7609643866_a8a5a49690_z.jpg\n",
      "cameraman.png\n",
      "cars1.jpg\n",
      "cars.jpg\n",
      "chestCT.jpg\n",
      "lena.jpg\n",
      "man-walking-on-the-beach-towards-shore_800.jpg\n",
      "NLM_5cls_data.h5\n",
      "NLMsamp_data_TB.pkl\n",
      "pedestrian-zone-456909_960_720.jpg\n",
      "pexels-photo-1034679_dusk.jpeg\n",
      "PulmonaryTBCXR.png\n",
      "T1-weighted-MRI.png\n",
      "TBdata_CHN.h5\n"
     ]
    }
   ],
   "source": [
    "!ls ./drive/data/DL_CV_data/\n"
   ]
  },
  {
   "cell_type": "code",
   "execution_count": 0,
   "metadata": {
    "colab": {},
    "colab_type": "code",
    "id": "ds-f_xui0-kv"
   },
   "outputs": [],
   "source": [
    "rez = (224,224)"
   ]
  },
  {
   "cell_type": "code",
   "execution_count": 0,
   "metadata": {
    "colab": {},
    "colab_type": "code",
    "id": "20dSbyEv5xfi"
   },
   "outputs": [],
   "source": [
    "import h5py\n",
    "#h5f = h5py.File('./drive/data/DL_CV_data/NLM_5cls_data.h5','r')\n",
    "h5f = h5py.File('./drive/data/DL_CV_data/TBdata_CHN.h5','r')\n",
    "data =h5f['data']\n",
    "truth=h5f['truth']\n",
    "data_org = (np.array(data))\n",
    "truth_org  = np.array(truth)\n"
   ]
  },
  {
   "cell_type": "code",
   "execution_count": 0,
   "metadata": {
    "colab": {
     "base_uri": "https://localhost:8080/",
     "height": 70
    },
    "colab_type": "code",
    "id": "ftUOKwNWQqKB",
    "outputId": "2e89a494-5884-4e01-8b49-72f32f810d32"
   },
   "outputs": [
    {
     "name": "stdout",
     "output_type": "stream",
     "text": [
      "(662, 1, 512, 512)\n",
      "(662, 2)\n",
      "[326. 336.]\n"
     ]
    }
   ],
   "source": [
    "ind = np.squeeze(np.array(np.where((truth_org.sum(1)>0))))# & (truth_org.sum(1)==truth_cp.sum(1)))))\n",
    "data=data_org[ind]\n",
    "truth = truth_org[ind,:]\n",
    "print(data.shape)\n",
    "print(truth.shape)\n",
    "print(truth.sum(0))"
   ]
  },
  {
   "cell_type": "code",
   "execution_count": 0,
   "metadata": {
    "colab": {},
    "colab_type": "code",
    "id": "tHZdDdPtHrC2"
   },
   "outputs": [],
   "source": [
    "truth_n = truth[:,0:1]\n",
    "truth_a = 1 - truth[:,0:1]\n",
    "truth_na = np.concatenate([truth_n,truth_a],axis=1)"
   ]
  },
  {
   "cell_type": "code",
   "execution_count": 0,
   "metadata": {
    "colab": {
     "base_uri": "https://localhost:8080/",
     "height": 35
    },
    "colab_type": "code",
    "id": "WqwXMZj_IXYJ",
    "outputId": "bf82699e-e982-4546-d19e-30493c8a3279"
   },
   "outputs": [
    {
     "data": {
      "text/plain": [
       "(662, 2)"
      ]
     },
     "execution_count": 28,
     "metadata": {
      "tags": []
     },
     "output_type": "execute_result"
    }
   ],
   "source": [
    "truth_na.shape"
   ]
  },
  {
   "cell_type": "code",
   "execution_count": 0,
   "metadata": {
    "colab": {},
    "colab_type": "code",
    "id": "Qp-JFCLW6bHT"
   },
   "outputs": [],
   "source": [
    "import cv2\n",
    "rez=(92,92)\n",
    "def preprocess(data):\n",
    "  from skimage import exposure\n",
    "  data_proc = np.zeros((data.shape[0],data.shape[1],rez[0],rez[1]))\n",
    "  #data_proc=[]\n",
    "  for i in range(0, data.shape[0]):\n",
    "    img = cv2.resize(data[i,0], rez)# , preserve_range=True)\n",
    "    img=exposure.equalize_hist(img)\n",
    "    #img=data[i,0]\n",
    "    img=(img - img.mean())/(1.0*img.std())\n",
    "    img=(img-img.min())/(1.0*(1e-2+img.max()-img.min()))\t\n",
    "    data_proc[i,0,:,:]=img\n",
    "  return np.array(data_proc)"
   ]
  },
  {
   "cell_type": "code",
   "execution_count": 0,
   "metadata": {
    "colab": {},
    "colab_type": "code",
    "id": "YbkwnQxp9Rdk"
   },
   "outputs": [],
   "source": [
    "from sklearn.model_selection import train_test_split\n",
    "data_proc = preprocess(data)\n"
   ]
  },
  {
   "cell_type": "code",
   "execution_count": 0,
   "metadata": {
    "colab": {},
    "colab_type": "code",
    "id": "ZzsLgRWH18G0"
   },
   "outputs": [],
   "source": [
    "data_proc_rgb = []\n",
    "\n",
    "for s in range(0,data_proc.shape[0]):\n",
    "    rgb=np.zeros((data_proc.shape[2],data_proc.shape[3],3))\n",
    "    rgb[:,:,0]=data_proc[s,0,:,:]\n",
    "    rgb[:,:,1]=data_proc[s,0,:,:]\n",
    "    rgb[:,:,2]=data_proc[s,0,:,:]\n",
    "    data_proc_rgb.append(rgb)\n",
    "    \n",
    "data_proc_rgb=np.array(data_proc_rgb)\n",
    "\n",
    "\n"
   ]
  },
  {
   "cell_type": "code",
   "execution_count": 0,
   "metadata": {
    "colab": {
     "base_uri": "https://localhost:8080/",
     "height": 35
    },
    "colab_type": "code",
    "id": "0d5A_BpI29Mh",
    "outputId": "3745450e-ea88-466c-d589-7cf6aa945f8a"
   },
   "outputs": [
    {
     "data": {
      "text/plain": [
       "(662, 92, 92, 3)"
      ]
     },
     "execution_count": 9,
     "metadata": {
      "tags": []
     },
     "output_type": "execute_result"
    }
   ],
   "source": [
    "data_proc_rgb.shape"
   ]
  },
  {
   "cell_type": "code",
   "execution_count": 0,
   "metadata": {
    "colab": {
     "base_uri": "https://localhost:8080/",
     "height": 303
    },
    "colab_type": "code",
    "id": "47WtW0ZS3BTo",
    "outputId": "ea26efa8-565f-4fbb-8b0e-73258adb5da7"
   },
   "outputs": [
    {
     "data": {
      "text/plain": [
       "(<matplotlib.image.AxesImage at 0x7f5bd4d72d68>,\n",
       " <function matplotlib.pyplot.show>)"
      ]
     },
     "execution_count": 10,
     "metadata": {
      "tags": []
     },
     "output_type": "execute_result"
    },
    {
     "data": {
      "image/png": "[encoded data removed]",
      "text/plain": [
       "<matplotlib.figure.Figure at 0x7f5bd5019b38>"
      ]
     },
     "metadata": {
      "tags": []
     },
     "output_type": "display_data"
    }
   ],
   "source": [
    "plt.imshow(data_proc_rgb[100,:,:,0],cmap='gray'), plt.show"
   ]
  },
  {
   "cell_type": "code",
   "execution_count": 0,
   "metadata": {
    "colab": {},
    "colab_type": "code",
    "id": "oombHYBb26dd"
   },
   "outputs": [],
   "source": [
    "x_train,x_test,y_train,y_test = train_test_split(data_proc_rgb,\n",
    "                                                             truth_na, \n",
    "                                                             test_size=0.2, \n",
    "                                                             random_state=13)"
   ]
  },
  {
   "cell_type": "code",
   "execution_count": 0,
   "metadata": {
    "colab": {
     "base_uri": "https://localhost:8080/",
     "height": 35
    },
    "colab_type": "code",
    "id": "dnMzzPLi-nxu",
    "outputId": "5f7bf2b7-99b1-4ab7-f9ae-37813e8c7b2b"
   },
   "outputs": [
    {
     "data": {
      "text/plain": [
       "(529, 92, 92, 3)"
      ]
     },
     "execution_count": 12,
     "metadata": {
      "tags": []
     },
     "output_type": "execute_result"
    }
   ],
   "source": [
    "x_train.shape\n"
   ]
  },
  {
   "cell_type": "code",
   "execution_count": 0,
   "metadata": {
    "colab": {
     "base_uri": "https://localhost:8080/",
     "height": 35
    },
    "colab_type": "code",
    "id": "HR3Q6FPsCAJz",
    "outputId": "8c0ac865-2580-481b-81ee-946f8e707571"
   },
   "outputs": [
    {
     "data": {
      "text/plain": [
       "0.9971149112095984"
      ]
     },
     "execution_count": 13,
     "metadata": {
      "tags": []
     },
     "output_type": "execute_result"
    }
   ],
   "source": [
    "x_train[10].max()\n"
   ]
  },
  {
   "cell_type": "code",
   "execution_count": 0,
   "metadata": {
    "colab": {
     "base_uri": "https://localhost:8080/",
     "height": 35
    },
    "colab_type": "code",
    "id": "_3obdUIGqIt0",
    "outputId": "87f8c4a9-41ba-4a44-ab03-a1e48d7223f6"
   },
   "outputs": [
    {
     "data": {
      "text/plain": [
       "0.9971461261726409"
      ]
     },
     "execution_count": 14,
     "metadata": {
      "tags": []
     },
     "output_type": "execute_result"
    }
   ],
   "source": [
    "x_train.max()"
   ]
  },
  {
   "cell_type": "code",
   "execution_count": 0,
   "metadata": {
    "colab": {
     "base_uri": "https://localhost:8080/",
     "height": 35
    },
    "colab_type": "code",
    "id": "FBJsB3ag1ncw",
    "outputId": "e0ce6c88-2768-498e-f391-56a6cd9302f9"
   },
   "outputs": [
    {
     "data": {
      "text/plain": [
       "(529, 224, 224, 3)"
      ]
     },
     "execution_count": 38,
     "metadata": {
      "tags": []
     },
     "output_type": "execute_result"
    }
   ],
   "source": [
    "x_train.shape"
   ]
  },
  {
   "cell_type": "markdown",
   "metadata": {
    "colab_type": "text",
    "id": "CaTgo6tmE_fb"
   },
   "source": [
    "#Shallow TB Model from Scratch"
   ]
  },
  {
   "cell_type": "code",
   "execution_count": 0,
   "metadata": {
    "colab": {
     "base_uri": "https://localhost:8080/",
     "height": 855
    },
    "colab_type": "code",
    "id": "MbKtaI6vSgy4",
    "outputId": "8ba96562-721c-4a54-81e8-7b5c0e10ab75"
   },
   "outputs": [
    {
     "name": "stderr",
     "output_type": "stream",
     "text": [
      "/usr/local/lib/python3.6/dist-packages/ipykernel_launcher.py:30: UserWarning: Update your `Conv2D` call to the Keras 2 API: `Conv2D(16, (3, 3), input_shape=(92, 92, 3..., padding=\"same\")`\n",
      "/usr/local/lib/python3.6/dist-packages/ipykernel_launcher.py:33: UserWarning: Update your `Conv2D` call to the Keras 2 API: `Conv2D(16, (3, 3))`\n",
      "/usr/local/lib/python3.6/dist-packages/ipykernel_launcher.py:38: UserWarning: Update your `Conv2D` call to the Keras 2 API: `Conv2D(32, (3, 3), padding=\"same\")`\n",
      "/usr/local/lib/python3.6/dist-packages/ipykernel_launcher.py:41: UserWarning: Update your `Conv2D` call to the Keras 2 API: `Conv2D(32, (3, 3))`\n",
      "/usr/local/lib/python3.6/dist-packages/ipykernel_launcher.py:63: UserWarning: The semantics of the Keras 2 argument `steps_per_epoch` is not the same as the Keras 1 argument `samples_per_epoch`. `steps_per_epoch` is the number of batches to draw from the generator at each epoch. Basically steps_per_epoch = samples_per_epoch/batch_size. Similarly `nb_val_samples`->`validation_steps` and `val_samples`->`steps` arguments have changed. Update your method calls accordingly.\n",
      "/usr/local/lib/python3.6/dist-packages/ipykernel_launcher.py:63: UserWarning: Update your `fit_generator` call to the Keras 2 API: `fit_generator(<keras_pre..., validation_data=(array([[[..., shuffle=True, steps_per_epoch=16, epochs=20)`\n"
     ]
    },
    {
     "name": "stdout",
     "output_type": "stream",
     "text": [
      "Epoch 1/20\n",
      "16/16 [==============================] - 3s 165ms/step - loss: 0.7511 - acc: 0.5020 - val_loss: 0.6818 - val_acc: 0.6917\n",
      "Epoch 2/20\n",
      "16/16 [==============================] - 1s 72ms/step - loss: 0.6427 - acc: 0.6260 - val_loss: 0.6585 - val_acc: 0.6015\n",
      "Epoch 3/20\n",
      "16/16 [==============================] - 1s 87ms/step - loss: 0.5775 - acc: 0.7232 - val_loss: 0.6411 - val_acc: 0.6541\n",
      "Epoch 4/20\n",
      "16/16 [==============================] - 1s 86ms/step - loss: 0.4921 - acc: 0.7822 - val_loss: 0.6154 - val_acc: 0.6992\n",
      "Epoch 5/20\n",
      "16/16 [==============================] - 1s 86ms/step - loss: 0.5120 - acc: 0.7414 - val_loss: 0.5938 - val_acc: 0.7143\n",
      "Epoch 6/20\n",
      "16/16 [==============================] - 1s 87ms/step - loss: 0.4844 - acc: 0.7665 - val_loss: 0.5697 - val_acc: 0.6992\n",
      "Epoch 7/20\n",
      "16/16 [==============================] - 1s 86ms/step - loss: 0.4766 - acc: 0.7767 - val_loss: 0.6579 - val_acc: 0.7143\n",
      "Epoch 8/20\n",
      "16/16 [==============================] - 1s 88ms/step - loss: 0.5219 - acc: 0.7708 - val_loss: 0.5941 - val_acc: 0.6992\n",
      "Epoch 9/20\n",
      "16/16 [==============================] - 1s 88ms/step - loss: 0.4514 - acc: 0.8034 - val_loss: 0.5744 - val_acc: 0.7143\n",
      "Epoch 10/20\n",
      "16/16 [==============================] - 1s 88ms/step - loss: 0.4680 - acc: 0.7858 - val_loss: 0.5436 - val_acc: 0.7519\n",
      "Epoch 11/20\n",
      "16/16 [==============================] - 1s 89ms/step - loss: 0.4431 - acc: 0.8093 - val_loss: 0.5282 - val_acc: 0.7444\n",
      "Epoch 12/20\n",
      "16/16 [==============================] - 1s 89ms/step - loss: 0.4385 - acc: 0.8076 - val_loss: 0.6192 - val_acc: 0.7444\n",
      "Epoch 13/20\n",
      "16/16 [==============================] - 1s 88ms/step - loss: 0.4593 - acc: 0.8135 - val_loss: 0.6353 - val_acc: 0.7519\n",
      "Epoch 14/20\n",
      "16/16 [==============================] - 1s 88ms/step - loss: 0.4100 - acc: 0.8389 - val_loss: 0.5659 - val_acc: 0.7744\n",
      "Epoch 15/20\n",
      "16/16 [==============================] - 1s 89ms/step - loss: 0.4160 - acc: 0.8132 - val_loss: 0.5312 - val_acc: 0.7594\n",
      "Epoch 16/20\n",
      "16/16 [==============================] - 1s 89ms/step - loss: 0.4681 - acc: 0.7923 - val_loss: 0.5523 - val_acc: 0.7293\n",
      "Epoch 17/20\n",
      "16/16 [==============================] - 1s 90ms/step - loss: 0.4638 - acc: 0.8018 - val_loss: 0.6121 - val_acc: 0.7068\n",
      "Epoch 18/20\n",
      "16/16 [==============================] - 1s 91ms/step - loss: 0.4429 - acc: 0.8047 - val_loss: 0.5491 - val_acc: 0.7444\n",
      "Epoch 19/20\n",
      "16/16 [==============================] - 1s 90ms/step - loss: 0.4112 - acc: 0.8311 - val_loss: 0.6003 - val_acc: 0.7519\n",
      "Epoch 20/20\n",
      "16/16 [==============================] - 1s 88ms/step - loss: 0.4262 - acc: 0.8115 - val_loss: 0.5214 - val_acc: 0.7820\n"
     ]
    }
   ],
   "source": [
    "TRAIN= True\n",
    "BATCH_SIZE=32\n",
    "EPOCHS = 20\n",
    "from keras import backend as K\n",
    "K.set_image_data_format(\"channels_last\")\n",
    "\n",
    "\n",
    "from keras.preprocessing.image import ImageDataGenerator\n",
    "\n",
    "# This will do preprocessing and realtime data augmentation:\n",
    "datagen = ImageDataGenerator(\n",
    "    featurewise_center=False,  # set input mean to 0 over the dataset\n",
    "    samplewise_center=False,  # set each sample mean to 0\n",
    "    featurewise_std_normalization=False,  # divide inputs by std of the dataset\n",
    "    samplewise_std_normalization=False,  # divide each input by its std\n",
    "    zca_whitening=False,  # apply ZCA whitening\n",
    "    rotation_range=1,  # randomly rotate images in the range (degrees, 0 to 180)\n",
    "    width_shift_range=0.1,  # randomly shift images horizontally (fraction of total width)\n",
    "    height_shift_range=0.1,  # randomly shift images vertically (fraction of total height)\n",
    "    horizontal_flip=False,  # randomly flip images\n",
    "    vertical_flip=False)  # randomly flip images\n",
    "\n",
    "# Prepare the generator\n",
    "datagen.fit(x_train)\n",
    "\n",
    "if TRAIN:\n",
    "    \n",
    "    model = Sequential()\n",
    "\n",
    "    model.add(Convolution2D(16, 3, 3, border_mode='same', input_shape=(x_train.shape[1],x_train.shape[2],x_train.shape[3])))\n",
    "    model.add(Activation('relu'))\n",
    "\n",
    "    model.add(Convolution2D(16, 3, 3))\n",
    "    model.add(Activation('relu'))\n",
    "\n",
    "    model.add(MaxPooling2D(pool_size=(2, 2)))\n",
    "    \n",
    "    model.add(Convolution2D(32, 3, 3, border_mode='same'))\n",
    "    model.add(Activation('relu'))\n",
    "\n",
    "    model.add(Convolution2D(32, 3, 3))\n",
    "    model.add(Activation('relu'))\n",
    "\n",
    "    model.add(MaxPooling2D(pool_size=(2, 2)))\n",
    "    \n",
    "    model.add(Flatten())\n",
    "    model.add(Dense(512))\n",
    "    model.add(Activation('relu'))\n",
    "\n",
    "    model.add(Dropout(0.1))\n",
    "\n",
    "    model.add(Dense(2))\n",
    "    model.add(Activation('sigmoid'))\n",
    "\n",
    "    model.compile(loss='categorical_crossentropy', optimizer='adam', metrics=['accuracy'])\n",
    "    \n",
    "    # Store Training Results\n",
    "        \n",
    "    model.fit_generator(datagen.flow(x_train, y_train,\n",
    "                        batch_size=BATCH_SIZE),\n",
    "                        samples_per_epoch=x_train.shape[0],\n",
    "                        nb_epoch=EPOCHS,\n",
    "                        validation_data=(x_test, y_test), shuffle=True)\n",
    "    \n",
    "    # Save Model and Stats\n",
    "    model.save('./drive/models/xray_TB_cnn_scratch.h5')\n",
    "\n",
    "else:\n",
    "    print('Loading pretrained model...')\n",
    "    model = keras.models.load_model('./drive/models/xray_TB_cnn_scratch.h5')\n",
    "    print('Model loaded.')"
   ]
  },
  {
   "cell_type": "code",
   "execution_count": 0,
   "metadata": {
    "colab": {
     "base_uri": "https://localhost:8080/",
     "height": 283
    },
    "colab_type": "code",
    "id": "yypT5a_Z1P18",
    "outputId": "a99d8638-d8d7-4373-e6d5-903768753807"
   },
   "outputs": [
    {
     "name": "stdout",
     "output_type": "stream",
     "text": [
      "0.8091954022988506\n"
     ]
    },
    {
     "data": {
      "image/png": "[encoded data removed]",
      "text/plain": [
       "<matplotlib.figure.Figure at 0x7f6066e50048>"
      ]
     },
     "metadata": {
      "tags": []
     },
     "output_type": "display_data"
    }
   ],
   "source": [
    "pred=model.predict(x_test)\n",
    "import sklearn\n",
    "fpr,tpr,thresh=sklearn.metrics.roc_curve(y_test[:,0], pred[:,0])\n",
    "\n",
    "plt.plot(fpr,tpr)\n",
    "print(sklearn.metrics.roc_auc_score(y_test[:,0],pred[:,0]))"
   ]
  },
  {
   "cell_type": "markdown",
   "metadata": {
    "colab_type": "text",
    "id": "tu-K1auP0UY6"
   },
   "source": [
    "# Transfer from Chest Xray general disease model "
   ]
  },
  {
   "cell_type": "markdown",
   "metadata": {
    "colab_type": "text",
    "id": "AF86cG3hjFzd"
   },
   "source": []
  },
  {
   "cell_type": "code",
   "execution_count": 0,
   "metadata": {
    "colab": {
     "base_uri": "https://localhost:8080/",
     "height": 52
    },
    "colab_type": "code",
    "id": "TOr2GwKgGBYr",
    "outputId": "58c2c682-b3e2-4ab5-f8ea-41c5a89c3964"
   },
   "outputs": [
    {
     "name": "stdout",
     "output_type": "stream",
     "text": [
      "Loading pretrained model...\n",
      "Model loaded.\n"
     ]
    }
   ],
   "source": [
    "print('Loading pretrained model...')\n",
    "base_model = keras.models.load_model('./drive/models/xray_cnn.h5')\n",
    "print('Model loaded.')"
   ]
  },
  {
   "cell_type": "code",
   "execution_count": 0,
   "metadata": {
    "colab": {
     "base_uri": "https://localhost:8080/",
     "height": 710
    },
    "colab_type": "code",
    "id": "J3JknHFsGfFE",
    "outputId": "6ca5ac2b-51dc-4e37-ea1e-19a06ec93cea"
   },
   "outputs": [
    {
     "name": "stdout",
     "output_type": "stream",
     "text": [
      "_________________________________________________________________\n",
      "Layer (type)                 Output Shape              Param #   \n",
      "=================================================================\n",
      "conv2d_22 (Conv2D)           (None, 92, 92, 16)        448       \n",
      "_________________________________________________________________\n",
      "activation_32 (Activation)   (None, 92, 92, 16)        0         \n",
      "_________________________________________________________________\n",
      "conv2d_23 (Conv2D)           (None, 90, 90, 16)        2320      \n",
      "_________________________________________________________________\n",
      "activation_33 (Activation)   (None, 90, 90, 16)        0         \n",
      "_________________________________________________________________\n",
      "max_pooling2d_11 (MaxPooling (None, 45, 45, 16)        0         \n",
      "_________________________________________________________________\n",
      "conv2d_24 (Conv2D)           (None, 45, 45, 32)        4640      \n",
      "_________________________________________________________________\n",
      "activation_34 (Activation)   (None, 45, 45, 32)        0         \n",
      "_________________________________________________________________\n",
      "conv2d_25 (Conv2D)           (None, 43, 43, 32)        9248      \n",
      "_________________________________________________________________\n",
      "activation_35 (Activation)   (None, 43, 43, 32)        0         \n",
      "_________________________________________________________________\n",
      "max_pooling2d_12 (MaxPooling (None, 21, 21, 32)        0         \n",
      "_________________________________________________________________\n",
      "flatten_7 (Flatten)          (None, 14112)             0         \n",
      "_________________________________________________________________\n",
      "dense_12 (Dense)             (None, 512)               7225856   \n",
      "_________________________________________________________________\n",
      "activation_36 (Activation)   (None, 512)               0         \n",
      "_________________________________________________________________\n",
      "dropout_7 (Dropout)          (None, 512)               0         \n",
      "_________________________________________________________________\n",
      "dense_13 (Dense)             (None, 2)                 1026      \n",
      "_________________________________________________________________\n",
      "activation_37 (Activation)   (None, 2)                 0         \n",
      "=================================================================\n",
      "Total params: 7,243,538\n",
      "Trainable params: 7,243,538\n",
      "Non-trainable params: 0\n",
      "_________________________________________________________________\n"
     ]
    }
   ],
   "source": [
    "base_model.summary()"
   ]
  },
  {
   "cell_type": "code",
   "execution_count": 0,
   "metadata": {
    "colab": {},
    "colab_type": "code",
    "id": "9aglXNZkHb_p"
   },
   "outputs": [],
   "source": [
    "last = base_model.get_layer('flatten_7').output"
   ]
  },
  {
   "cell_type": "markdown",
   "metadata": {
    "colab_type": "text",
    "id": "JQgEDh0TmLJC"
   },
   "source": [
    "#Finetune only classification layer"
   ]
  },
  {
   "cell_type": "code",
   "execution_count": 0,
   "metadata": {
    "colab": {
     "base_uri": "https://localhost:8080/",
     "height": 675
    },
    "colab_type": "code",
    "id": "e4nlx0wWmIoV",
    "outputId": "c67f3300-b10f-4bb0-a431-c8fb40886bbc"
   },
   "outputs": [
    {
     "name": "stdout",
     "output_type": "stream",
     "text": [
      "_________________________________________________________________\n",
      "Layer (type)                 Output Shape              Param #   \n",
      "=================================================================\n",
      "conv2d_22_input (InputLayer) (None, 92, 92, 3)         0         \n",
      "_________________________________________________________________\n",
      "conv2d_22 (Conv2D)           (None, 92, 92, 16)        448       \n",
      "_________________________________________________________________\n",
      "activation_32 (Activation)   (None, 92, 92, 16)        0         \n",
      "_________________________________________________________________\n",
      "conv2d_23 (Conv2D)           (None, 90, 90, 16)        2320      \n",
      "_________________________________________________________________\n",
      "activation_33 (Activation)   (None, 90, 90, 16)        0         \n",
      "_________________________________________________________________\n",
      "max_pooling2d_11 (MaxPooling (None, 45, 45, 16)        0         \n",
      "_________________________________________________________________\n",
      "conv2d_24 (Conv2D)           (None, 45, 45, 32)        4640      \n",
      "_________________________________________________________________\n",
      "activation_34 (Activation)   (None, 45, 45, 32)        0         \n",
      "_________________________________________________________________\n",
      "conv2d_25 (Conv2D)           (None, 43, 43, 32)        9248      \n",
      "_________________________________________________________________\n",
      "activation_35 (Activation)   (None, 43, 43, 32)        0         \n",
      "_________________________________________________________________\n",
      "max_pooling2d_12 (MaxPooling (None, 21, 21, 32)        0         \n",
      "_________________________________________________________________\n",
      "flatten_7 (Flatten)          (None, 14112)             0         \n",
      "_________________________________________________________________\n",
      "dense_5 (Dense)              (None, 512)               7225856   \n",
      "_________________________________________________________________\n",
      "dropout_3 (Dropout)          (None, 512)               0         \n",
      "_________________________________________________________________\n",
      "dense_6 (Dense)              (None, 2)                 1026      \n",
      "=================================================================\n",
      "Total params: 7,243,538\n",
      "Trainable params: 7,226,882\n",
      "Non-trainable params: 16,656\n",
      "_________________________________________________________________\n"
     ]
    }
   ],
   "source": [
    "BATCH_SIZE=32\n",
    "EPOCHS=20\n",
    "\n",
    "\n",
    "x = Dense(512, activation='relu')(last)\n",
    "x = Dropout(0.1)(x)\n",
    "pred = Dense(2, activation='softmax')(x)\n",
    "\n",
    "model = Model(base_model.input, pred)\n",
    "\n",
    "#set the base model's layers to non-trainable\n",
    "#train the base model\n",
    "for layer in model.layers[:-3]:\n",
    "     layer.trainable = False\n",
    "\n",
    "model.summary()\n",
    "\n"
   ]
  },
  {
   "cell_type": "code",
   "execution_count": 0,
   "metadata": {
    "colab": {
     "base_uri": "https://localhost:8080/",
     "height": 784
    },
    "colab_type": "code",
    "id": "qGGHefFYn69t",
    "outputId": "9a549b62-756c-4dcf-fa89-338b928360b7"
   },
   "outputs": [
    {
     "name": "stderr",
     "output_type": "stream",
     "text": [
      "/usr/local/lib/python3.6/dist-packages/ipykernel_launcher.py:32: UserWarning: The semantics of the Keras 2 argument `steps_per_epoch` is not the same as the Keras 1 argument `samples_per_epoch`. `steps_per_epoch` is the number of batches to draw from the generator at each epoch. Basically steps_per_epoch = samples_per_epoch/batch_size. Similarly `nb_val_samples`->`validation_steps` and `val_samples`->`steps` arguments have changed. Update your method calls accordingly.\n",
      "/usr/local/lib/python3.6/dist-packages/ipykernel_launcher.py:32: UserWarning: Update your `fit_generator` call to the Keras 2 API: `fit_generator(<keras_pre..., validation_data=(array([[[..., shuffle=True, steps_per_epoch=16, epochs=20)`\n"
     ]
    },
    {
     "name": "stdout",
     "output_type": "stream",
     "text": [
      "Epoch 1/20\n",
      "16/16 [==============================] - 1s 90ms/step - loss: 0.6169 - acc: 0.6309 - val_loss: 0.5934 - val_acc: 0.6842\n",
      "Epoch 2/20\n",
      "16/16 [==============================] - 1s 69ms/step - loss: 0.5311 - acc: 0.7395 - val_loss: 0.5933 - val_acc: 0.7068\n",
      "Epoch 3/20\n",
      "16/16 [==============================] - 1s 82ms/step - loss: 0.5005 - acc: 0.7535 - val_loss: 0.5358 - val_acc: 0.7519\n",
      "Epoch 4/20\n",
      "16/16 [==============================] - 1s 83ms/step - loss: 0.4383 - acc: 0.7956 - val_loss: 0.5924 - val_acc: 0.7218\n",
      "Epoch 5/20\n",
      "16/16 [==============================] - 1s 84ms/step - loss: 0.4779 - acc: 0.7819 - val_loss: 0.5911 - val_acc: 0.6917\n",
      "Epoch 6/20\n",
      "16/16 [==============================] - 1s 82ms/step - loss: 0.4623 - acc: 0.7991 - val_loss: 0.6252 - val_acc: 0.6992\n",
      "Epoch 7/20\n",
      "16/16 [==============================] - 1s 83ms/step - loss: 0.3983 - acc: 0.8367 - val_loss: 0.6194 - val_acc: 0.6917\n",
      "Epoch 8/20\n",
      "16/16 [==============================] - 1s 86ms/step - loss: 0.4347 - acc: 0.8217 - val_loss: 0.6294 - val_acc: 0.7218\n",
      "Epoch 9/20\n",
      "16/16 [==============================] - 1s 82ms/step - loss: 0.4356 - acc: 0.7966 - val_loss: 0.6295 - val_acc: 0.6917\n",
      "Epoch 10/20\n",
      "16/16 [==============================] - 1s 82ms/step - loss: 0.3913 - acc: 0.8187 - val_loss: 0.5613 - val_acc: 0.7669\n",
      "Epoch 11/20\n",
      "16/16 [==============================] - 1s 83ms/step - loss: 0.4235 - acc: 0.8089 - val_loss: 0.5459 - val_acc: 0.7744\n",
      "Epoch 12/20\n",
      "16/16 [==============================] - 1s 82ms/step - loss: 0.3868 - acc: 0.8350 - val_loss: 0.5781 - val_acc: 0.7519\n",
      "Epoch 13/20\n",
      "16/16 [==============================] - 1s 81ms/step - loss: 0.4011 - acc: 0.8324 - val_loss: 0.5244 - val_acc: 0.7594\n",
      "Epoch 14/20\n",
      "16/16 [==============================] - 1s 82ms/step - loss: 0.4178 - acc: 0.8109 - val_loss: 0.5381 - val_acc: 0.7669\n",
      "Epoch 15/20\n",
      "16/16 [==============================] - 1s 82ms/step - loss: 0.3911 - acc: 0.8422 - val_loss: 0.6741 - val_acc: 0.6466\n",
      "Epoch 16/20\n",
      "16/16 [==============================] - 1s 83ms/step - loss: 0.4376 - acc: 0.8103 - val_loss: 0.5453 - val_acc: 0.7669\n",
      "Epoch 17/20\n",
      "16/16 [==============================] - 1s 83ms/step - loss: 0.4363 - acc: 0.8207 - val_loss: 0.5231 - val_acc: 0.7895\n",
      "Epoch 18/20\n",
      "16/16 [==============================] - 1s 84ms/step - loss: 0.3902 - acc: 0.8262 - val_loss: 0.5401 - val_acc: 0.7594\n",
      "Epoch 19/20\n",
      "16/16 [==============================] - 1s 85ms/step - loss: 0.3862 - acc: 0.8295 - val_loss: 0.5156 - val_acc: 0.7669\n",
      "Epoch 20/20\n",
      "16/16 [==============================] - 1s 83ms/step - loss: 0.3572 - acc: 0.8500 - val_loss: 0.5301 - val_acc: 0.7519\n"
     ]
    }
   ],
   "source": [
    "from keras.preprocessing.image import ImageDataGenerator\n",
    "\n",
    "# This will do preprocessing and realtime data augmentation:\n",
    "datagen = ImageDataGenerator(\n",
    "    featurewise_center=False,  # set input mean to 0 over the dataset\n",
    "    samplewise_center=False,  # set each sample mean to 0\n",
    "    featurewise_std_normalization=False,  # divide inputs by std of the dataset\n",
    "    samplewise_std_normalization=False,  # divide each input by its std\n",
    "    zca_whitening=False,  # apply ZCA whitening\n",
    "    rotation_range=1,  # randomly rotate images in the range (degrees, 0 to 180)\n",
    "    width_shift_range=0.1,  # randomly shift images horizontally (fraction of total width)\n",
    "    height_shift_range=0.1,  # randomly shift images vertically (fraction of total height)\n",
    "    horizontal_flip=False,  # randomly flip images\n",
    "    vertical_flip=False)  # randomly flip images\n",
    "\n",
    "# Prepare the generator\n",
    "datagen.fit(x_train)\n",
    "\n",
    "\n",
    "model.compile(loss='categorical_crossentropy', optimizer='adam', metrics=['accuracy'])\n",
    "\n",
    "# Store Training Results\n",
    "\n",
    "\n",
    "datagen.fit(x_train)\n",
    "\n",
    "model.fit_generator(datagen.flow(x_train, y_train,\n",
    "                    batch_size=BATCH_SIZE),\n",
    "                    samples_per_epoch=x_train.shape[0],\n",
    "                    nb_epoch=EPOCHS,\n",
    "                    validation_data=(x_test, y_test), shuffle=True)\n",
    "\n",
    "# Save Model and Stats\n",
    "model.save('./drive/models/xray_tb_shallow_finetune_dense.h5')\n",
    "\n"
   ]
  },
  {
   "cell_type": "code",
   "execution_count": 0,
   "metadata": {
    "colab": {
     "base_uri": "https://localhost:8080/",
     "height": 283
    },
    "colab_type": "code",
    "id": "t3g8wrrWod3O",
    "outputId": "208ba44c-ebfa-429f-d5aa-a0f498a87cef"
   },
   "outputs": [
    {
     "name": "stdout",
     "output_type": "stream",
     "text": [
      "0.830344827586207\n"
     ]
    },
    {
     "data": {
      "image/png": "[encoded data removed]",
      "text/plain": [
       "<matplotlib.figure.Figure at 0x7f5bcb4425f8>"
      ]
     },
     "metadata": {
      "tags": []
     },
     "output_type": "display_data"
    }
   ],
   "source": [
    "pred=model.predict(x_test)\n",
    "import sklearn\n",
    "fpr,tpr,thresh=sklearn.metrics.roc_curve(y_test[:,0], pred[:,0])\n",
    "\n",
    "plt.plot(fpr,tpr)\n",
    "print(sklearn.metrics.roc_auc_score(y_test[:,0],pred[:,0]))"
   ]
  },
  {
   "cell_type": "markdown",
   "metadata": {
    "colab_type": "text",
    "id": "6VjmaST04Csv"
   },
   "source": []
  },
  {
   "cell_type": "markdown",
   "metadata": {
    "colab_type": "text",
    "id": "FYz7DTIK6Jcj"
   },
   "source": [
    "#FineTune all layers"
   ]
  },
  {
   "cell_type": "code",
   "execution_count": 0,
   "metadata": {
    "colab": {
     "base_uri": "https://localhost:8080/",
     "height": 730
    },
    "colab_type": "code",
    "id": "euGPdpV4KGpo",
    "outputId": "137e99ac-d486-463c-a1f7-b9690c1b4c13"
   },
   "outputs": [
    {
     "name": "stdout",
     "output_type": "stream",
     "text": [
      "_________________________________________________________________\n",
      "Layer (type)                 Output Shape              Param #   \n",
      "=================================================================\n",
      "conv2d_22_input (InputLayer) (None, 92, 92, 3)         0         \n",
      "_________________________________________________________________\n",
      "conv2d_22 (Conv2D)           (None, 92, 92, 16)        448       \n",
      "_________________________________________________________________\n",
      "activation_32 (Activation)   (None, 92, 92, 16)        0         \n",
      "_________________________________________________________________\n",
      "conv2d_23 (Conv2D)           (None, 90, 90, 16)        2320      \n",
      "_________________________________________________________________\n",
      "activation_33 (Activation)   (None, 90, 90, 16)        0         \n",
      "_________________________________________________________________\n",
      "max_pooling2d_11 (MaxPooling (None, 45, 45, 16)        0         \n",
      "_________________________________________________________________\n",
      "conv2d_24 (Conv2D)           (None, 45, 45, 32)        4640      \n",
      "_________________________________________________________________\n",
      "activation_34 (Activation)   (None, 45, 45, 32)        0         \n",
      "_________________________________________________________________\n",
      "conv2d_25 (Conv2D)           (None, 43, 43, 32)        9248      \n",
      "_________________________________________________________________\n",
      "activation_35 (Activation)   (None, 43, 43, 32)        0         \n",
      "_________________________________________________________________\n",
      "max_pooling2d_12 (MaxPooling (None, 21, 21, 32)        0         \n",
      "_________________________________________________________________\n",
      "flatten_7 (Flatten)          (None, 14112)             0         \n",
      "_________________________________________________________________\n",
      "dense_5 (Dense)              (None, 512)               7225856   \n",
      "_________________________________________________________________\n",
      "dropout_3 (Dropout)          (None, 512)               0         \n",
      "_________________________________________________________________\n",
      "dense_6 (Dense)              (None, 2)                 1026      \n",
      "=================================================================\n",
      "Total params: 7,226,882\n",
      "Trainable params: 7,226,882\n",
      "Non-trainable params: 0\n",
      "_________________________________________________________________\n"
     ]
    },
    {
     "name": "stderr",
     "output_type": "stream",
     "text": [
      "/usr/local/lib/python3.6/dist-packages/keras/engine/training.py:490: UserWarning: Discrepancy between trainable weights and collected trainable weights, did you set `model.trainable` without calling `model.compile` after ?\n",
      "  'Discrepancy between trainable weights and collected trainable'\n"
     ]
    }
   ],
   "source": [
    "for layer in model.layers:\n",
    "     layer.trainable = True\n",
    "\n",
    "model.summary()"
   ]
  },
  {
   "cell_type": "code",
   "execution_count": 0,
   "metadata": {
    "colab": {
     "base_uri": "https://localhost:8080/",
     "height": 784
    },
    "colab_type": "code",
    "id": "3pMT-euRLM0H",
    "outputId": "2e3fc39c-c4ea-4a23-dfb7-8671d236bac0"
   },
   "outputs": [
    {
     "name": "stderr",
     "output_type": "stream",
     "text": [
      "/usr/local/lib/python3.6/dist-packages/ipykernel_launcher.py:33: UserWarning: The semantics of the Keras 2 argument `steps_per_epoch` is not the same as the Keras 1 argument `samples_per_epoch`. `steps_per_epoch` is the number of batches to draw from the generator at each epoch. Basically steps_per_epoch = samples_per_epoch/batch_size. Similarly `nb_val_samples`->`validation_steps` and `val_samples`->`steps` arguments have changed. Update your method calls accordingly.\n",
      "/usr/local/lib/python3.6/dist-packages/ipykernel_launcher.py:33: UserWarning: Update your `fit_generator` call to the Keras 2 API: `fit_generator(<keras_pre..., validation_data=(array([[[..., shuffle=True, steps_per_epoch=16, epochs=20)`\n"
     ]
    },
    {
     "name": "stdout",
     "output_type": "stream",
     "text": [
      "Epoch 1/20\n",
      "16/16 [==============================] - 2s 134ms/step - loss: 0.3766 - acc: 0.8438 - val_loss: 0.5171 - val_acc: 0.7744\n",
      "Epoch 2/20\n",
      "16/16 [==============================] - 1s 78ms/step - loss: 0.3470 - acc: 0.8555 - val_loss: 0.5074 - val_acc: 0.7895\n",
      "Epoch 3/20\n",
      "16/16 [==============================] - 1s 84ms/step - loss: 0.3564 - acc: 0.8500 - val_loss: 0.5157 - val_acc: 0.7895\n",
      "Epoch 4/20\n",
      "16/16 [==============================] - 1s 87ms/step - loss: 0.3757 - acc: 0.8272 - val_loss: 0.5257 - val_acc: 0.7669\n",
      "Epoch 5/20\n",
      "16/16 [==============================] - 1s 86ms/step - loss: 0.3312 - acc: 0.8595 - val_loss: 0.5183 - val_acc: 0.7820\n",
      "Epoch 6/20\n",
      "16/16 [==============================] - 1s 88ms/step - loss: 0.3659 - acc: 0.8402 - val_loss: 0.5067 - val_acc: 0.7744\n",
      "Epoch 7/20\n",
      "16/16 [==============================] - 1s 88ms/step - loss: 0.3300 - acc: 0.8673 - val_loss: 0.5254 - val_acc: 0.7820\n",
      "Epoch 8/20\n",
      "16/16 [==============================] - 1s 90ms/step - loss: 0.3172 - acc: 0.8618 - val_loss: 0.5330 - val_acc: 0.7744\n",
      "Epoch 9/20\n",
      "16/16 [==============================] - 1s 89ms/step - loss: 0.3780 - acc: 0.8526 - val_loss: 0.5137 - val_acc: 0.7820\n",
      "Epoch 10/20\n",
      "16/16 [==============================] - 1s 90ms/step - loss: 0.3085 - acc: 0.8699 - val_loss: 0.5238 - val_acc: 0.7744\n",
      "Epoch 11/20\n",
      "16/16 [==============================] - 1s 90ms/step - loss: 0.3329 - acc: 0.8575 - val_loss: 0.5261 - val_acc: 0.7744\n",
      "Epoch 12/20\n",
      "16/16 [==============================] - 1s 89ms/step - loss: 0.3377 - acc: 0.8575 - val_loss: 0.5114 - val_acc: 0.7744\n",
      "Epoch 13/20\n",
      "16/16 [==============================] - 1s 89ms/step - loss: 0.3377 - acc: 0.8416 - val_loss: 0.5165 - val_acc: 0.7820\n",
      "Epoch 14/20\n",
      "16/16 [==============================] - 1s 89ms/step - loss: 0.3606 - acc: 0.8422 - val_loss: 0.5162 - val_acc: 0.7594\n",
      "Epoch 15/20\n",
      "16/16 [==============================] - 1s 88ms/step - loss: 0.3178 - acc: 0.8810 - val_loss: 0.5779 - val_acc: 0.7444\n",
      "Epoch 16/20\n",
      "16/16 [==============================] - 1s 89ms/step - loss: 0.3878 - acc: 0.8523 - val_loss: 0.5376 - val_acc: 0.7744\n",
      "Epoch 17/20\n",
      "16/16 [==============================] - 1s 89ms/step - loss: 0.3201 - acc: 0.8660 - val_loss: 0.5315 - val_acc: 0.7820\n",
      "Epoch 18/20\n",
      "16/16 [==============================] - 1s 90ms/step - loss: 0.3197 - acc: 0.8691 - val_loss: 0.5304 - val_acc: 0.7895\n",
      "Epoch 19/20\n",
      "16/16 [==============================] - 1s 89ms/step - loss: 0.3323 - acc: 0.8562 - val_loss: 0.5516 - val_acc: 0.7895\n",
      "Epoch 20/20\n",
      "16/16 [==============================] - 1s 87ms/step - loss: 0.3206 - acc: 0.8640 - val_loss: 0.5369 - val_acc: 0.7744\n"
     ]
    }
   ],
   "source": [
    "from keras.preprocessing.image import ImageDataGenerator\n",
    "\n",
    "# This will do preprocessing and realtime data augmentation:\n",
    "datagen = ImageDataGenerator(\n",
    "    featurewise_center=False,  # set input mean to 0 over the dataset\n",
    "    samplewise_center=False,  # set each sample mean to 0\n",
    "    featurewise_std_normalization=False,  # divide inputs by std of the dataset\n",
    "    samplewise_std_normalization=False,  # divide each input by its std\n",
    "    zca_whitening=False,  # apply ZCA whitening\n",
    "    rotation_range=1,  # randomly rotate images in the range (degrees, 0 to 180)\n",
    "    width_shift_range=0.1,  # randomly shift images horizontally (fraction of total width)\n",
    "    height_shift_range=0.1,  # randomly shift images vertically (fraction of total height)\n",
    "    horizontal_flip=False,  # randomly flip images\n",
    "    vertical_flip=False)  # randomly flip images\n",
    "\n",
    "# Prepare the generator\n",
    "datagen.fit(x_train)\n",
    "\n",
    "opt=keras.optimizers.Adam(lr=0.0001)\n",
    "\n",
    "model.compile(loss='categorical_crossentropy', optimizer=opt, metrics=['accuracy'])\n",
    "\n",
    "# Store Training Results\n",
    "\n",
    "#x_train_p=preprocess_input(x_train.copy())\n",
    "#x_test_p=preprocess_input(x_test.copy())\n",
    "datagen.fit(x_train)\n",
    "\n",
    "model.fit_generator(datagen.flow(x_train, y_train,\n",
    "                    batch_size=BATCH_SIZE),\n",
    "                    samples_per_epoch=x_train.shape[0],\n",
    "                    nb_epoch=EPOCHS,\n",
    "                    validation_data=(x_test, y_test), shuffle=True)\n",
    "\n",
    "# Save Model and Stats\n",
    "model.save('./drive/models/xray_tb_shallow_finetune_dense.h5')\n"
   ]
  },
  {
   "cell_type": "code",
   "execution_count": 0,
   "metadata": {
    "colab": {},
    "colab_type": "code",
    "id": "6YUZqi3-Lh11"
   },
   "outputs": [],
   "source": []
  },
  {
   "cell_type": "code",
   "execution_count": 0,
   "metadata": {
    "colab": {
     "base_uri": "https://localhost:8080/",
     "height": 283
    },
    "colab_type": "code",
    "id": "U7Pn7mSiL9zL",
    "outputId": "6b08fc6c-77f8-401e-fedb-c252629d18be"
   },
   "outputs": [
    {
     "name": "stdout",
     "output_type": "stream",
     "text": [
      "0.8379310344827586\n"
     ]
    },
    {
     "data": {
      "image/png": "[encoded data removed]",
      "text/plain": [
       "<matplotlib.figure.Figure at 0x7f5bc8235e10>"
      ]
     },
     "metadata": {
      "tags": []
     },
     "output_type": "display_data"
    }
   ],
   "source": [
    "pred=model.predict(x_test)\n",
    "import sklearn\n",
    "fpr,tpr,thresh=sklearn.metrics.roc_curve(y_test[:,0], pred[:,0])\n",
    "\n",
    "plt.plot(fpr,tpr)\n",
    "print(sklearn.metrics.roc_auc_score(y_test[:,0],pred[:,0]))"
   ]
  },
  {
   "cell_type": "code",
   "execution_count": 0,
   "metadata": {
    "colab": {},
    "colab_type": "code",
    "id": "MnSTWDZjMCh-"
   },
   "outputs": [],
   "source": []
  }
 ],
 "metadata": {
  "accelerator": "GPU",
  "colab": {
   "collapsed_sections": [],
   "name": "DL_CV_GLL_Dec1_2_TL_CXR_TB_shallow.ipynb",
   "provenance": [],
   "version": "0.3.2"
  },
  "kernelspec": {
   "display_name": "Python 2",
   "language": "python",
   "name": "python2"
  },
  "language_info": {
   "codemirror_mode": {
    "name": "ipython",
    "version": 2
   },
   "file_extension": ".py",
   "mimetype": "text/x-python",
   "name": "python",
   "nbconvert_exporter": "python",
   "pygments_lexer": "ipython2",
   "version": "2.7.15"
  }
 },
 "nbformat": 4,
 "nbformat_minor": 1
}
