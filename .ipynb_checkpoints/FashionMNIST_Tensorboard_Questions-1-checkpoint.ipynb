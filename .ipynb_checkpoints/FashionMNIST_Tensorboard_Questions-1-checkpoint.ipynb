{
 "cells": [
  {
   "cell_type": "markdown",
   "metadata": {
    "colab_type": "text",
    "id": "XF0mIIFMPXuo"
   },
   "source": [
    "## Tensorboard Visualisation of Fashion MNIST dataset"
   ]
  },
  {
   "cell_type": "markdown",
   "metadata": {
    "colab_type": "text",
    "id": "Bpifh6e2PhLu"
   },
   "source": [
    "### Import tensorflow and keras and Load the dataset\n",
    "\n",
    "\n",
    "You can directly load Fashion MNIST dataset from tf.keras.datasets similar to MNIST dataset."
   ]
  },
  {
   "cell_type": "code",
   "execution_count": null,
   "metadata": {},
   "outputs": [],
   "source": []
  },
  {
   "cell_type": "code",
   "execution_count": null,
   "metadata": {},
   "outputs": [],
   "source": []
  },
  {
   "cell_type": "markdown",
   "metadata": {
    "colab_type": "text",
    "id": "3diiS-AiPhd8"
   },
   "source": [
    "### Convert Output label to one-hot encodings"
   ]
  },
  {
   "cell_type": "code",
   "execution_count": null,
   "metadata": {},
   "outputs": [],
   "source": []
  },
  {
   "cell_type": "markdown",
   "metadata": {
    "colab_type": "text",
    "id": "wG75qPfWPv7j"
   },
   "source": [
    "### Build the Network based on the infromation given below.\n",
    "\n",
    "2 convolution layers with 32 and 64 filters with relu activation\n",
    "\n",
    "Max Pooling 2x2 filter size\n",
    "\n",
    "flatten\n",
    "\n",
    "Dense layer with 128 neurons with relu activation\n",
    "\n",
    "Dropout p=0.25\n",
    "\n",
    "Dense layer with 10 neurons with softmax activation"
   ]
  },
  {
   "cell_type": "code",
   "execution_count": null,
   "metadata": {},
   "outputs": [],
   "source": []
  },
  {
   "cell_type": "markdown",
   "metadata": {
    "colab_type": "text",
    "id": "Z62ZxIYkUBNP"
   },
   "source": [
    "### Complie the model with `adam` optimizer and categorical cross entropy loss"
   ]
  },
  {
   "cell_type": "code",
   "execution_count": null,
   "metadata": {},
   "outputs": [],
   "source": []
  },
  {
   "cell_type": "markdown",
   "metadata": {
    "colab_type": "text",
    "id": "_8pDLKV8UKj-"
   },
   "source": [
    "### Run the below command to install tensorboard on Google Colab"
   ]
  },
  {
   "cell_type": "code",
   "execution_count": 10,
   "metadata": {
    "colab": {
     "base_uri": "https://localhost:8080/",
     "height": 173
    },
    "colab_type": "code",
    "executionInfo": {
     "elapsed": 6832,
     "status": "ok",
     "timestamp": 1543609058131,
     "user": {
      "displayName": "Sri Teja Allaparthi",
      "photoUrl": "https://lh6.googleusercontent.com/-NP3tYqr0Evc/AAAAAAAAAAI/AAAAAAAAAAc/D-4N5wRYeJY/s64/photo.jpg",
      "userId": "01957608921182445112"
     },
     "user_tz": -330
    },
    "id": "DnRYDI6SRNxO",
    "outputId": "4a317f36-85aa-45b7-e0db-634a7e32f4bb"
   },
   "outputs": [
    {
     "name": "stdout",
     "output_type": "stream",
     "text": [
      "Collecting tensorboardcolab\n",
      "  Downloading https://files.pythonhosted.org/packages/73/3d/eaf745e162e471c5bb2737a407d8626fb8684a88cf085045456aeb841d3c/tensorboardcolab-0.0.19.tar.gz\n",
      "Building wheels for collected packages: tensorboardcolab\n",
      "  Running setup.py bdist_wheel for tensorboardcolab ... \u001b[?25l-\b \bdone\n",
      "\u001b[?25h  Stored in directory: /root/.cache/pip/wheels/ab/74/02/cda602d1dc28b2f12eab313c49b9bfa14d6371326bc2590e06\n",
      "Successfully built tensorboardcolab\n",
      "Installing collected packages: tensorboardcolab\n",
      "Successfully installed tensorboardcolab-0.0.19\n"
     ]
    }
   ],
   "source": [
    "!pip install tensorboardcolab"
   ]
  },
  {
   "cell_type": "markdown",
   "metadata": {
    "colab_type": "text",
    "id": "V4p1u_nzUTvF"
   },
   "source": [
    "### Run the below code to import and initialize the Tensorboard Colab\n",
    "\n",
    "If success, this will generate a link."
   ]
  },
  {
   "cell_type": "code",
   "execution_count": 12,
   "metadata": {
    "colab": {
     "base_uri": "https://localhost:8080/",
     "height": 68
    },
    "colab_type": "code",
    "executionInfo": {
     "elapsed": 21558,
     "status": "ok",
     "timestamp": 1543609113996,
     "user": {
      "displayName": "Sri Teja Allaparthi",
      "photoUrl": "https://lh6.googleusercontent.com/-NP3tYqr0Evc/AAAAAAAAAAI/AAAAAAAAAAc/D-4N5wRYeJY/s64/photo.jpg",
      "userId": "01957608921182445112"
     },
     "user_tz": -330
    },
    "id": "oYZnbebuRSlf",
    "outputId": "880158b5-8439-493e-ac4c-af1c1a277540"
   },
   "outputs": [
    {
     "name": "stdout",
     "output_type": "stream",
     "text": [
      "Wait for 8 seconds...\n",
      "TensorBoard link:\n",
      "http://d6227f57.ngrok.io\n"
     ]
    }
   ],
   "source": [
    "from tensorboardcolab import *\n",
    "\n",
    "tbc = TensorBoardColab()"
   ]
  },
  {
   "cell_type": "markdown",
   "metadata": {
    "colab_type": "text",
    "id": "7sVzXgQ9UkIR"
   },
   "source": [
    "### Pass **`TensorboardColabCallback(tbc)`** as callback in model.fit and Train the model"
   ]
  },
  {
   "cell_type": "code",
   "execution_count": null,
   "metadata": {},
   "outputs": [],
   "source": []
  },
  {
   "cell_type": "markdown",
   "metadata": {
    "colab_type": "text",
    "id": "yA3bisNIPhzI"
   },
   "source": [
    "A folder with name `Graph` is generated by TensorBoardColab to store the data. Click the above ngork link(in the output of above step) to open **tensorboard**."
   ]
  }
 ],
 "metadata": {
  "accelerator": "GPU",
  "colab": {
   "collapsed_sections": [],
   "name": "FashionMNIST_Tensorboard.ipynb",
   "provenance": [],
   "toc_visible": true,
   "version": "0.3.2"
  },
  "kernelspec": {
   "display_name": "Python 2",
   "language": "python",
   "name": "python2"
  },
  "language_info": {
   "codemirror_mode": {
    "name": "ipython",
    "version": 2
   },
   "file_extension": ".py",
   "mimetype": "text/x-python",
   "name": "python",
   "nbconvert_exporter": "python",
   "pygments_lexer": "ipython2",
   "version": "2.7.15"
  }
 },
 "nbformat": 4,
 "nbformat_minor": 1
}
